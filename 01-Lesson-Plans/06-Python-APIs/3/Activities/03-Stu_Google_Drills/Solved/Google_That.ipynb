{
 "cells": [
  {
   "cell_type": "code",
   "execution_count": 1,
   "metadata": {},
   "outputs": [],
   "source": [
    "# Create code to answer each of the following questions.\n",
    "\n",
    "# Dependencies\n",
    "import requests\n",
    "import json\n",
    "\n",
    "# Google API Key\n",
    "from config import gkey\n",
    "\n",
    "def google_api_request(url, params=None):\n",
    "    params = params or {}\n",
    "    params['key'] = gkey\n",
    "    result = requests.get(url, params=params).json()\n",
    "    if 'error_message' in result:\n",
    "        raise Exception(result['error_message'])\n",
    "    return result['results']\n",
    "\n",
    "def geocode_results(address):\n",
    "    return google_api_request('https://maps.googleapis.com/maps/api/geocode/json', params={\n",
    "        'address': address,\n",
    "    })\n",
    "\n",
    "def place_results(lat, lng, radius=8000, place_type=None, keyword=None):\n",
    "    params = {\n",
    "        'location': f\"{lat},{lng}\",\n",
    "        'radius': radius,\n",
    "    }\n",
    "    if place_type:\n",
    "        params['type'] = place_type\n",
    "    if keyword:\n",
    "        params['keyword'] = keyword\n",
    "    return google_api_request('https://maps.googleapis.com/maps/api/place/nearbysearch/json', params)"
   ]
  },
  {
   "cell_type": "code",
   "execution_count": 2,
   "metadata": {},
   "outputs": [
    {
     "name": "stdout",
     "output_type": "stream",
     "text": [
      "Seattle, Washington: 47.6062095, -122.3320708\n"
     ]
    }
   ],
   "source": [
    "# 1. What are the geocoordinates (latitude and longitude) of Seattle, Washington?\n",
    "\n",
    "seattle_geo = geocode_results('Seattle, Washington')[0]\n",
    "seattle_lat = seattle_geo['geometry']['location']['lat']\n",
    "seattle_lng = seattle_geo['geometry']['location']['lng']\n",
    "\n",
    "print(f\"Seattle, Washington: {seattle_lat}, {seattle_lng}\")"
   ]
  },
  {
   "cell_type": "code",
   "execution_count": 3,
   "metadata": {},
   "outputs": [
    {
     "name": "stdout",
     "output_type": "stream",
     "text": [
      "The White House: 38.8976763, -77.0365298\n"
     ]
    }
   ],
   "source": [
    "# 2. What are the geocoordinates (latitude and longitude) of The White House?\n",
    "\n",
    "wh_geo = geocode_results('The White House')[0]\n",
    "wh_lat = wh_geo['geometry']['location']['lat']\n",
    "wh_lng = wh_geo['geometry']['location']['lng']\n",
    "\n",
    "print(f\"The White House: {wh_lat}, {wh_lng}\")"
   ]
  },
  {
   "cell_type": "code",
   "execution_count": 4,
   "metadata": {},
   "outputs": [
    {
     "name": "stdout",
     "output_type": "stream",
     "text": [
      "REI\n",
      "222 Yale Avenue North, Seattle\n"
     ]
    }
   ],
   "source": [
    "# 3. Find the name and address of a bike store in Seattle, Washington.\n",
    "#    Hint: See https://developers.google.com/places/web-service/supported_types\n",
    "\n",
    "seattle_bikes = place_results(seattle_lat, seattle_lng, place_type=\"bicycle_store\")[0]\n",
    "\n",
    "print(seattle_bikes[\"name\"])\n",
    "print(seattle_bikes[\"vicinity\"])"
   ]
  },
  {
   "cell_type": "code",
   "execution_count": 5,
   "metadata": {},
   "outputs": [
    {
     "name": "stdout",
     "output_type": "stream",
     "text": [
      "Total Party - Party, Costumes & Novelties\n",
      "1750 Crystal Dr, Arlington\n"
     ]
    }
   ],
   "source": [
    "# 4. Find a balloon store near the White House.\n",
    "\n",
    "wh_balloons = place_results(wh_lat, wh_lng, keyword=\"Balloon Store\")[0]\n",
    "\n",
    "print(wh_balloons[\"name\"])\n",
    "print(wh_balloons[\"vicinity\"])"
   ]
  },
  {
   "cell_type": "code",
   "execution_count": 6,
   "metadata": {},
   "outputs": [
    {
     "name": "stdout",
     "output_type": "stream",
     "text": [
      "La Jolla Village Smiles Dentistry and Implants\n",
      "8657 Villa La Jolla Drive Ste 211, La Jolla\n"
     ]
    }
   ],
   "source": [
    "# 5. Find the nearest dentist to your house.\n",
    "# Hint: Use Google Maps to find your latitude and Google Places to find\n",
    "# the dentist. You may also need the rankby property.\n",
    "\n",
    "def place_results(lat, lng, radius=8000, place_type=None, keyword=None, rankby=None):\n",
    "    params = {\n",
    "        'location': f\"{lat},{lng}\",\n",
    "        'radius': radius,\n",
    "    }\n",
    "    if place_type:\n",
    "        params['type'] = place_type\n",
    "    if keyword:\n",
    "        params['keyword'] = keyword\n",
    "    if rankby:\n",
    "        params['rankby'] = rankby\n",
    "        del params['radius']\n",
    "    return google_api_request('https://maps.googleapis.com/maps/api/place/nearbysearch/json', params)\n",
    "\n",
    "# get my geocode data\n",
    "my_geo = geocode_results('Trader Joes, 92037')[0]\n",
    "my_lat = my_geo['geometry']['location']['lat']\n",
    "my_lng = my_geo['geometry']['location']['lng']\n",
    "\n",
    "# find nearby dentists\n",
    "my_dentist = place_results(my_lat, my_lng, place_type='dentist', rankby='distance')[0]\n",
    "\n",
    "print(my_dentist['name'])\n",
    "print(my_dentist['vicinity'])"
   ]
  },
  {
   "cell_type": "code",
   "execution_count": 7,
   "metadata": {},
   "outputs": [
    {
     "name": "stdout",
     "output_type": "stream",
     "text": [
      "-- Rank 1 --\n",
      "Snooze an A.M. Eatery\n",
      "3435 Del Mar Heights Rd D3, San Diego, CA 92130, USA\n",
      "\n",
      "-- Rank 2 --\n",
      "Harney Sushi\n",
      "3964 Harney St, San Diego, CA 92110, USA\n",
      "\n",
      "-- Rank 3 --\n",
      "CUCINA urbana\n",
      "505 Laurel St, San Diego, CA 92101, USA\n",
      "\n",
      "-- Rank 4 --\n",
      "Tender Greens\n",
      "2400 Historic Decatur Rd #104, San Diego, CA 92106, USA\n",
      "\n",
      "-- Rank 5 --\n",
      "Island Prime\n",
      "880 Harbor Island Dr, San Diego, CA 92101, USA\n",
      "\n"
     ]
    }
   ],
   "source": [
    "# 6. Bonus: Find the names and addresses of the top five restaurants in your home city.\n",
    "#    Hint: Read about \"Text Search Results\"\n",
    "# (https://developers.google.com/places/web-service/search#TextSearchRequests)\n",
    "\n",
    "def textsearch_results(query):\n",
    "    return google_api_request('https://maps.googleapis.com/maps/api/place/textsearch/json', params={\n",
    "        'query': query,\n",
    "    })\n",
    "\n",
    "results = textsearch_results(\"best restaurant in San Diego, CA\")[:5]\n",
    "\n",
    "for num, result in enumerate(results):\n",
    "    print('-- Rank {} --'.format(num + 1))\n",
    "    print(result['name'])\n",
    "    print(result['formatted_address'])\n",
    "    print()"
   ]
  },
  {
   "cell_type": "code",
   "execution_count": null,
   "metadata": {},
   "outputs": [],
   "source": []
  }
 ],
 "metadata": {
  "kernelspec": {
   "display_name": "Python [default]",
   "language": "python",
   "name": "python3"
  },
  "language_info": {
   "codemirror_mode": {
    "name": "ipython",
    "version": 3
   },
   "file_extension": ".py",
   "mimetype": "text/x-python",
   "name": "python",
   "nbconvert_exporter": "python",
   "pygments_lexer": "ipython3",
   "version": "3.6.5"
  }
 },
 "nbformat": 4,
 "nbformat_minor": 2
}
