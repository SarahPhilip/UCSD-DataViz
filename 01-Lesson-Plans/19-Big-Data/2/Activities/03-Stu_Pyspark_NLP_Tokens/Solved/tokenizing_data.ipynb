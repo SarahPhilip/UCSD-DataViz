{
 "cells": [
  {
   "cell_type": "code",
   "execution_count": 1,
   "metadata": {},
   "outputs": [],
   "source": [
    "from pyspark.sql import SparkSession\n",
    "\n",
    "spark = SparkSession.builder.appName('tokenizer').getOrCreate()"
   ]
  },
  {
   "cell_type": "code",
   "execution_count": 2,
   "metadata": {},
   "outputs": [],
   "source": [
    "from pyspark import SparkFiles\n",
    "\n",
    "spark.sparkContext.addFile(\"../Resources/data.csv\")\n",
    "df = spark.read.csv(SparkFiles.get(\"data.csv\"), sep=\",\", header=True)"
   ]
  },
  {
   "cell_type": "code",
   "execution_count": 3,
   "metadata": {},
   "outputs": [
    {
     "name": "stdout",
     "output_type": "stream",
     "text": [
      "+---------------------+\n",
      "|Poem                 |\n",
      "+---------------------+\n",
      "|This Autumn midnight |\n",
      "|Orion’s at my window |\n",
      "|shouting for his dog.|\n",
      "+---------------------+\n",
      "\n"
     ]
    }
   ],
   "source": [
    "# Show datframe\n",
    "df.show(truncate=False)"
   ]
  },
  {
   "cell_type": "code",
   "execution_count": 4,
   "metadata": {},
   "outputs": [
    {
     "name": "stdout",
     "output_type": "stream",
     "text": [
      "+---------------------+--------------------------+\n",
      "|Poem                 |words                     |\n",
      "+---------------------+--------------------------+\n",
      "|This Autumn midnight |[this, autumn, midnight]  |\n",
      "|Orion’s at my window |[orion’s, at, my, window] |\n",
      "|shouting for his dog.|[shouting, for, his, dog.]|\n",
      "+---------------------+--------------------------+\n",
      "\n"
     ]
    }
   ],
   "source": [
    "from pyspark.ml.feature import Tokenizer\n",
    "\n",
    "# Tokenize dataframe\n",
    "tokener = Tokenizer(inputCol=\"Poem\", outputCol=\"words\")\n",
    "tokenized = tokener.transform(df)\n",
    "tokenized.show(truncate=False)"
   ]
  },
  {
   "cell_type": "code",
   "execution_count": 5,
   "metadata": {},
   "outputs": [],
   "source": [
    "# Create function to count vowels\n",
    "def vowel_counter(words):    \n",
    "    vowel_count = 0\n",
    "    \n",
    "    for word in words:\n",
    "        for vowel in word:\n",
    "            if vowel in 'aeiou':\n",
    "                vowel_count += 1\n",
    "\n",
    "    return vowel_count"
   ]
  },
  {
   "cell_type": "code",
   "execution_count": 6,
   "metadata": {},
   "outputs": [],
   "source": [
    "from pyspark.sql.functions import col, udf\n",
    "from pyspark.sql.types import IntegerType\n",
    "\n",
    "# Store a user defined function\n",
    "count_vowels = udf(vowel_counter, IntegerType())"
   ]
  },
  {
   "cell_type": "code",
   "execution_count": 7,
   "metadata": {},
   "outputs": [
    {
     "name": "stdout",
     "output_type": "stream",
     "text": [
      "+---------------------+--------------------------+------+\n",
      "|Poem                 |words                     |vowels|\n",
      "+---------------------+--------------------------+------+\n",
      "|This Autumn midnight |[this, autumn, midnight]  |6     |\n",
      "|Orion’s at my window |[orion’s, at, my, window] |6     |\n",
      "|shouting for his dog.|[shouting, for, his, dog.]|6     |\n",
      "+---------------------+--------------------------+------+\n",
      "\n"
     ]
    }
   ],
   "source": [
    "# Create a new dataframe with the udf\n",
    "tokenized.select(\n",
    "    \"Poem\", \n",
    "    \"words\"\n",
    ").withColumn(\n",
    "    \"vowels\", \n",
    "    count_vowels(col(\"words\"))\n",
    ").show(truncate=False)"
   ]
  }
 ],
 "metadata": {
  "kernelspec": {
   "display_name": "Python 3",
   "language": "python",
   "name": "python3"
  },
  "language_info": {
   "codemirror_mode": {
    "name": "ipython",
    "version": 3
   },
   "file_extension": ".py",
   "mimetype": "text/x-python",
   "name": "python",
   "nbconvert_exporter": "python",
   "pygments_lexer": "ipython3",
   "version": "3.6.5"
  }
 },
 "nbformat": 4,
 "nbformat_minor": 2
}
