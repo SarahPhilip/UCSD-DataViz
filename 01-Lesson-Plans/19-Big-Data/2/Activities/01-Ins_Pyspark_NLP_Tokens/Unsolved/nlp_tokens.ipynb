{
 "cells": [
  {
   "cell_type": "code",
   "execution_count": 2,
   "metadata": {},
   "outputs": [],
   "source": [
    "from pyspark.sql import SparkSession\n",
    "\n",
    "spark = SparkSession.builder.appName('nlp').getOrCreate()"
   ]
  },
  {
   "cell_type": "code",
   "execution_count": 3,
   "metadata": {},
   "outputs": [],
   "source": [
    "# Create sample dataframe\n",
    "df = spark.createDataFrame([\n",
    "    (0, \"Spark is great\"),\n",
    "    (1, \"We are learning Spark\"),\n",
    "    (2, \"Spark is better than hadoop no doubt\")\n",
    "], [\"id\", \"sentence\"])"
   ]
  },
  {
   "cell_type": "code",
   "execution_count": 4,
   "metadata": {},
   "outputs": [
    {
     "name": "stdout",
     "output_type": "stream",
     "text": [
      "+---+------------------------------------+\n",
      "|id |sentence                            |\n",
      "+---+------------------------------------+\n",
      "|0  |Spark is great                      |\n",
      "|1  |We are learning Spark               |\n",
      "|2  |Spark is better than hadoop no doubt|\n",
      "+---+------------------------------------+\n",
      "\n"
     ]
    }
   ],
   "source": [
    "# Show data frame\n",
    "df.show(truncate=False)"
   ]
  },
  {
   "cell_type": "code",
   "execution_count": 11,
   "metadata": {},
   "outputs": [
    {
     "name": "stdout",
     "output_type": "stream",
     "text": [
      "+---+--------------------------------------------+------------------------------------------------------------------------------+\n",
      "|id |sentence                                    |words                                                                         |\n",
      "+---+--------------------------------------------+------------------------------------------------------------------------------+\n",
      "|0  |Spark is great                              |[spark,  , is,  , great]                                                      |\n",
      "|1  |We are learning Spark                       |[we,  , are,  , learning,  , spark]                                           |\n",
      "|2  |Spark is better than hadoop, no doubt! can't|[spark,  , is,  , better,  , than,  , hadoop, , , no,  , doubt, ! , can, ', t]|\n",
      "+---+--------------------------------------------+------------------------------------------------------------------------------+\n",
      "\n"
     ]
    }
   ],
   "source": [
    "# Create sample dataframe\n",
    "df = spark.createDataFrame([\n",
    "    (0, \"Spark is great\"),\n",
    "    (1, \"We are learning Spark\"),\n",
    "    (2, \"Spark is better than hadoop, no doubt! can't\")\n",
    "], [\"id\", \"sentence\"])\n",
    "\n",
    "from pyspark.ml.feature import RegexTokenizer\n",
    "\n",
    "regex_tokenizer = RegexTokenizer(\n",
    "    inputCol=\"sentence\", \n",
    "    outputCol=\"words\", \n",
    "    pattern=\"\\\\b\"\n",
    ")\n",
    "\n",
    "new_df = regex_tokenizer.transform(df)\n",
    "new_df.show(truncate=False)"
   ]
  },
  {
   "cell_type": "code",
   "execution_count": null,
   "metadata": {},
   "outputs": [],
   "source": []
  }
 ],
 "metadata": {
  "kernelspec": {
   "display_name": "Python 3",
   "language": "python",
   "name": "python3"
  },
  "language_info": {
   "codemirror_mode": {
    "name": "ipython",
    "version": 3
   },
   "file_extension": ".py",
   "mimetype": "text/x-python",
   "name": "python",
   "nbconvert_exporter": "python",
   "pygments_lexer": "ipython3",
   "version": "3.6.5"
  }
 },
 "nbformat": 4,
 "nbformat_minor": 2
}
