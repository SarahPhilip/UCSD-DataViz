{
 "cells": [
  {
   "cell_type": "code",
   "execution_count": 1,
   "metadata": {},
   "outputs": [],
   "source": [
    "from pyspark.sql import SparkSession\n",
    "\n",
    "spark = SparkSession.builder.appName('stopwords').getOrCreate()"
   ]
  },
  {
   "cell_type": "code",
   "execution_count": 2,
   "metadata": {},
   "outputs": [],
   "source": [
    "from pyspark import SparkFiles\n",
    "\n",
    "spark.sparkContext.addFile(\"https://s3.amazonaws.com/zepl-trilogy-test/food_reviews.csv\")\n",
    "df = spark.read.csv(SparkFiles.get(\"food_reviews.csv\"), sep=\",\", header=True)"
   ]
  },
  {
   "cell_type": "code",
   "execution_count": 3,
   "metadata": {},
   "outputs": [
    {
     "name": "stdout",
     "output_type": "stream",
     "text": [
      "+----------------------------------------------------------------------------------------------------+\n",
      "|                                                                                             Reviews|\n",
      "+----------------------------------------------------------------------------------------------------+\n",
      "|                                                                          The pasta was a dish I had|\n",
      "|                                                                        We ate the fish it was tasty|\n",
      "|                                                                My family did not like the food here|\n",
      "|                                      The girl even tried to spread each half out to cover the roll.|\n",
      "|this is his job and since it was probably the slowest time of the day I would at least expect him...|\n",
      "|                            I'm always greeted by the  employees and they always seem eager to help.|\n",
      "+----------------------------------------------------------------------------------------------------+\n",
      "\n"
     ]
    }
   ],
   "source": [
    "df.show(truncate=100)"
   ]
  },
  {
   "cell_type": "code",
   "execution_count": 4,
   "metadata": {},
   "outputs": [
    {
     "name": "stdout",
     "output_type": "stream",
     "text": [
      "+--------------------------------------------------+--------------------------------------------------+\n",
      "|                                           Reviews|                                             Words|\n",
      "+--------------------------------------------------+--------------------------------------------------+\n",
      "|                        The pasta was a dish I had|                [the, pasta, was, a, dish, i, had]|\n",
      "|                      We ate the fish it was tasty|              [we, ate, the, fish, it, was, tasty]|\n",
      "|              My family did not like the food here|     [my, family, did, not, like, the, food, here]|\n",
      "|The girl even tried to spread each half out to ...|[the, girl, even, tried, to, spread, each, half...|\n",
      "|this is his job and since it was probably the s...|[this, is, his, job, and, since, it, was, proba...|\n",
      "|I'm always greeted by the  employees and they a...|[i'm, always, greeted, by, the, , employees, an...|\n",
      "+--------------------------------------------------+--------------------------------------------------+\n",
      "\n"
     ]
    }
   ],
   "source": [
    "from pyspark.ml.feature import Tokenizer\n",
    "\n",
    "# Tokenize dataframe\n",
    "review_data = Tokenizer(inputCol=\"Reviews\", outputCol=\"Words\")\n",
    "reviewed = review_data.transform(df)\n",
    "reviewed.show(truncate=50)"
   ]
  },
  {
   "cell_type": "code",
   "execution_count": 5,
   "metadata": {},
   "outputs": [
    {
     "name": "stdout",
     "output_type": "stream",
     "text": [
      "+---------------------------------+---------------------------------+---------------------------------+\n",
      "|                          Reviews|                            Words|                         Filtered|\n",
      "+---------------------------------+---------------------------------+---------------------------------+\n",
      "|       The pasta was a dish I had|[the, pasta, was, a, dish, i, ...|                    [pasta, dish]|\n",
      "|     We ate the fish it was tasty|[we, ate, the, fish, it, was, ...|               [ate, fish, tasty]|\n",
      "|My family did not like the foo...|[my, family, did, not, like, t...|             [family, like, food]|\n",
      "|The girl even tried to spread ...|[the, girl, even, tried, to, s...|[girl, even, tried, spread, ha...|\n",
      "|this is his job and since it w...|[this, is, his, job, and, sinc...|[job, since, probably, slowest...|\n",
      "|I'm always greeted by the  emp...|[i'm, always, greeted, by, the...|[always, greeted, , employees,...|\n",
      "+---------------------------------+---------------------------------+---------------------------------+\n",
      "\n"
     ]
    }
   ],
   "source": [
    "from pyspark.ml.feature import StopWordsRemover\n",
    "\n",
    "# Remove stop words\n",
    "remover = StopWordsRemover(inputCol=\"Words\", outputCol=\"Filtered\")\n",
    "newFrame = remover.transform(reviewed)\n",
    "newFrame.show(truncate=33)"
   ]
  },
  {
   "cell_type": "code",
   "execution_count": 6,
   "metadata": {},
   "outputs": [
    {
     "name": "stdout",
     "output_type": "stream",
     "text": [
      "+----------------------------------------------------------------------------------------------------+\n",
      "|                                                                                            filtered|\n",
      "+----------------------------------------------------------------------------------------------------+\n",
      "|                                                                                       [pasta, dish]|\n",
      "|                                                                                  [ate, fish, tasty]|\n",
      "|                                                                                [family, like, food]|\n",
      "|                                                     [girl, even, tried, spread, half, cover, roll.]|\n",
      "|[job, since, probably, slowest, time, day, least, expect, take, order, put, sandwich, through., c...|\n",
      "|                                          [always, greeted, , employees, always, seem, eager, help.]|\n",
      "+----------------------------------------------------------------------------------------------------+\n",
      "\n"
     ]
    }
   ],
   "source": [
    "# Show simplified review\n",
    "newFrame.select(\"filtered\").show(truncate=100)"
   ]
  }
 ],
 "metadata": {
  "kernelspec": {
   "display_name": "Python 3",
   "language": "python",
   "name": "python3"
  },
  "language_info": {
   "codemirror_mode": {
    "name": "ipython",
    "version": 3
   },
   "file_extension": ".py",
   "mimetype": "text/x-python",
   "name": "python",
   "nbconvert_exporter": "python",
   "pygments_lexer": "ipython3",
   "version": "3.6.5"
  }
 },
 "nbformat": 4,
 "nbformat_minor": 2
}
