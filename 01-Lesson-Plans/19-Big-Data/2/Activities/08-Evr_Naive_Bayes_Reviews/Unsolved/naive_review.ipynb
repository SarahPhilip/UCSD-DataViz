{
 "cells": [
  {
   "cell_type": "code",
   "execution_count": 1,
   "metadata": {},
   "outputs": [],
   "source": [
    "from pyspark.sql import SparkSession\n",
    "\n",
    "spark = SparkSession.builder.appName('yelp').getOrCreate()"
   ]
  },
  {
   "cell_type": "code",
   "execution_count": 2,
   "metadata": {},
   "outputs": [
    {
     "name": "stdout",
     "output_type": "stream",
     "text": [
      "+--------+----------------------------------------------------------------------------------------------------+\n",
      "|   class|                                                                                                text|\n",
      "+--------+----------------------------------------------------------------------------------------------------+\n",
      "|positive|                                                                            Wow... Loved this place.|\n",
      "|negative|                                                                                  Crust is not good.|\n",
      "|negative|                                                           Not tasty and the texture was just nasty.|\n",
      "|positive|             Stopped by during the late May bank holiday off Rick Steve recommendation and loved it.|\n",
      "|positive|                                         The selection on the menu was great and so were the prices.|\n",
      "|negative|                                                      Now I am getting angry and I want my damn pho.|\n",
      "|negative|                                                               Honeslty it didn't taste THAT fresh.)|\n",
      "|negative|The potatoes were like rubber and you could tell they had been made up ahead of time being kept u...|\n",
      "|positive|                                                                           The fries were great too.|\n",
      "|positive|                                                                                      A great touch.|\n",
      "|positive|                                                                            Service was very prompt.|\n",
      "|negative|                                                                                  Would not go back.|\n",
      "|negative| The cashier had no care what so ever on what I had to say it still ended up being wayyy overpriced.|\n",
      "|positive|                                         I tried the Cape Cod ravoli, chicken,with cranberry...mmmm!|\n",
      "|negative|                                      I was disgusted because I was pretty sure that was human hair.|\n",
      "|negative|                                                  I was shocked because no signs indicate cash only.|\n",
      "|positive|                                                                                 Highly recommended.|\n",
      "|negative|                                                              Waitress was a little slow in service.|\n",
      "|negative|                                                 This place is not worth your time, let alone Vegas.|\n",
      "|negative|                                                                                did not like at all.|\n",
      "+--------+----------------------------------------------------------------------------------------------------+\n",
      "only showing top 20 rows\n",
      "\n",
      "Number of records:  1000\n"
     ]
    }
   ],
   "source": [
    "from pyspark import SparkFiles\n",
    "\n",
    "spark.sparkContext.addFile(\"https://s3.amazonaws.com/zepl-trilogy-test/yelp_reviews.tsv\")\n",
    "df = spark.read.csv(SparkFiles.get(\"yelp_reviews.tsv\"), sep=\"\\t\", header=True)\n",
    "df.show(truncate=100)\n",
    "\n",
    "print('Number of records: ', df.count())"
   ]
  },
  {
   "cell_type": "code",
   "execution_count": null,
   "metadata": {},
   "outputs": [],
   "source": [
    "from pyspark.ml.feature import StringIndexer, Tokenizer, StopWordsRemover, HashingTF, IDF\n",
    "\n",
    "# adjust class column\n",
    "# CODE HERE\n",
    "\n",
    "# adjust text column\n",
    "# CODE HERE"
   ]
  },
  {
   "cell_type": "code",
   "execution_count": null,
   "metadata": {},
   "outputs": [],
   "source": [
    "from pyspark.sql.functions import length\n",
    "\n",
    "# add length feature\n",
    "# CODE HERE"
   ]
  },
  {
   "cell_type": "code",
   "execution_count": null,
   "metadata": {},
   "outputs": [],
   "source": [
    "from pyspark.ml.feature import VectorAssembler\n",
    "\n",
    "# create feature vectors\n",
    "# CODE HERE"
   ]
  },
  {
   "cell_type": "code",
   "execution_count": null,
   "metadata": {},
   "outputs": [],
   "source": [
    "from pyspark.ml import Pipeline\n",
    "\n",
    "# create a data processing Pipeline\n",
    "# CODE HERE"
   ]
  },
  {
   "cell_type": "code",
   "execution_count": null,
   "metadata": {},
   "outputs": [],
   "source": [
    "# Fit and transform the pipeline\n",
    "# CODE HERE"
   ]
  },
  {
   "cell_type": "code",
   "execution_count": null,
   "metadata": {},
   "outputs": [],
   "source": [
    "from pyspark.ml.classification import NaiveBayes\n",
    "\n",
    "# split training and testing data\n",
    "# CODE HERE\n",
    "\n",
    "# create a Naive Bayes model and fit training data\n",
    "# CODE HERE"
   ]
  },
  {
   "cell_type": "code",
   "execution_count": null,
   "metadata": {},
   "outputs": [],
   "source": [
    "# tranform the model with the testing data\n",
    "# CODE HERE"
   ]
  },
  {
   "cell_type": "code",
   "execution_count": null,
   "metadata": {},
   "outputs": [],
   "source": [
    "from pyspark.ml.evaluation import MulticlassClassificationEvaluator\n",
    "\n",
    "# use the ClassificationEvaluator to check accuracy\n",
    "# CODE HERE\n",
    "\n",
    "print(f\"Accuracy of model at predicting reviews was: {acc}\")"
   ]
  }
 ],
 "metadata": {
  "kernel_info": {
   "name": "python3"
  },
  "kernelspec": {
   "display_name": "Python 3",
   "language": "python",
   "name": "python3"
  },
  "language_info": {
   "codemirror_mode": {
    "name": "ipython",
    "version": 3
   },
   "file_extension": ".py",
   "mimetype": "text/x-python",
   "name": "python",
   "nbconvert_exporter": "python",
   "pygments_lexer": "ipython3",
   "version": "3.6.5"
  },
  "nteract": {
   "version": "0.11.2"
  },
  "varInspector": {
   "cols": {
    "lenName": 16,
    "lenType": 16,
    "lenVar": 40
   },
   "kernels_config": {
    "python": {
     "delete_cmd_postfix": "",
     "delete_cmd_prefix": "del ",
     "library": "var_list.py",
     "varRefreshCmd": "print(var_dic_list())"
    },
    "r": {
     "delete_cmd_postfix": ") ",
     "delete_cmd_prefix": "rm(",
     "library": "var_list.r",
     "varRefreshCmd": "cat(var_dic_list()) "
    }
   },
   "types_to_exclude": [
    "module",
    "function",
    "builtin_function_or_method",
    "instance",
    "_Feature"
   ],
   "window_display": false
  }
 },
 "nbformat": 4,
 "nbformat_minor": 2
}
