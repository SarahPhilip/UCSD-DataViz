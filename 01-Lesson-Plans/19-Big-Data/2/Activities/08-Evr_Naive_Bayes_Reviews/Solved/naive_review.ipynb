{
 "cells": [
  {
   "cell_type": "code",
   "execution_count": 1,
   "metadata": {},
   "outputs": [],
   "source": [
    "from pyspark.sql import SparkSession\n",
    "\n",
    "spark = SparkSession.builder.appName('yelp').getOrCreate()"
   ]
  },
  {
   "cell_type": "code",
   "execution_count": 2,
   "metadata": {},
   "outputs": [
    {
     "name": "stdout",
     "output_type": "stream",
     "text": [
      "+--------+----------------------------------------------------------------------------------------------------+\n",
      "|   class|                                                                                                text|\n",
      "+--------+----------------------------------------------------------------------------------------------------+\n",
      "|positive|                                                                            Wow... Loved this place.|\n",
      "|negative|                                                                                  Crust is not good.|\n",
      "|negative|                                                           Not tasty and the texture was just nasty.|\n",
      "|positive|             Stopped by during the late May bank holiday off Rick Steve recommendation and loved it.|\n",
      "|positive|                                         The selection on the menu was great and so were the prices.|\n",
      "|negative|                                                      Now I am getting angry and I want my damn pho.|\n",
      "|negative|                                                               Honeslty it didn't taste THAT fresh.)|\n",
      "|negative|The potatoes were like rubber and you could tell they had been made up ahead of time being kept u...|\n",
      "|positive|                                                                           The fries were great too.|\n",
      "|positive|                                                                                      A great touch.|\n",
      "|positive|                                                                            Service was very prompt.|\n",
      "|negative|                                                                                  Would not go back.|\n",
      "|negative| The cashier had no care what so ever on what I had to say it still ended up being wayyy overpriced.|\n",
      "|positive|                                         I tried the Cape Cod ravoli, chicken,with cranberry...mmmm!|\n",
      "|negative|                                      I was disgusted because I was pretty sure that was human hair.|\n",
      "|negative|                                                  I was shocked because no signs indicate cash only.|\n",
      "|positive|                                                                                 Highly recommended.|\n",
      "|negative|                                                              Waitress was a little slow in service.|\n",
      "|negative|                                                 This place is not worth your time, let alone Vegas.|\n",
      "|negative|                                                                                did not like at all.|\n",
      "+--------+----------------------------------------------------------------------------------------------------+\n",
      "only showing top 20 rows\n",
      "\n",
      "Number of records:  1000\n"
     ]
    }
   ],
   "source": [
    "from pyspark import SparkFiles\n",
    "\n",
    "spark.sparkContext.addFile(\"https://s3.amazonaws.com/zepl-trilogy-test/yelp_reviews.tsv\")\n",
    "df = spark.read.csv(SparkFiles.get(\"yelp_reviews.tsv\"), sep=\"\\t\", header=True)\n",
    "df.show(truncate=100)\n",
    "\n",
    "print('Number of records: ', df.count())"
   ]
  },
  {
   "cell_type": "code",
   "execution_count": 3,
   "metadata": {},
   "outputs": [],
   "source": [
    "from pyspark.ml.feature import StringIndexer, Tokenizer, StopWordsRemover, HashingTF, IDF\n",
    "\n",
    "# adjust class column\n",
    "pos_neg_transformer = StringIndexer(inputCol=\"class\", outputCol=\"label\")\n",
    "\n",
    "# adjust text column\n",
    "token_transformer = Tokenizer(inputCol=\"text\", outputCol=\"tokens\")\n",
    "stopwords_transformer = StopWordsRemover(inputCol=\"tokens\", outputCol=\"stop_tokens\")\n",
    "hashing_transformer = HashingTF(inputCol=\"stop_tokens\", outputCol=\"hash_tokens\")\n",
    "idf_transformer = IDF(inputCol=\"hash_tokens\", outputCol=\"idf_tokens\")"
   ]
  },
  {
   "cell_type": "code",
   "execution_count": 4,
   "metadata": {},
   "outputs": [
    {
     "name": "stdout",
     "output_type": "stream",
     "text": [
      "+--------+--------------------+-----+\n",
      "|   class|                text|label|\n",
      "+--------+--------------------+-----+\n",
      "|positive|Wow... Loved this...|  0.0|\n",
      "|negative|  Crust is not good.|  1.0|\n",
      "|negative|Not tasty and the...|  1.0|\n",
      "|positive|Stopped by during...|  0.0|\n",
      "|positive|The selection on ...|  0.0|\n",
      "|negative|Now I am getting ...|  1.0|\n",
      "|negative|Honeslty it didn'...|  1.0|\n",
      "|negative|The potatoes were...|  1.0|\n",
      "|positive|The fries were gr...|  0.0|\n",
      "|positive|      A great touch.|  0.0|\n",
      "|positive|Service was very ...|  0.0|\n",
      "|negative|  Would not go back.|  1.0|\n",
      "|negative|The cashier had n...|  1.0|\n",
      "|positive|I tried the Cape ...|  0.0|\n",
      "|negative|I was disgusted b...|  1.0|\n",
      "|negative|I was shocked bec...|  1.0|\n",
      "|positive| Highly recommended.|  0.0|\n",
      "|negative|Waitress was a li...|  1.0|\n",
      "|negative|This place is not...|  1.0|\n",
      "|negative|did not like at all.|  1.0|\n",
      "+--------+--------------------+-----+\n",
      "only showing top 20 rows\n",
      "\n"
     ]
    }
   ],
   "source": [
    "pos_neg_transformer.fit(df).transform(df).show()"
   ]
  },
  {
   "cell_type": "code",
   "execution_count": 5,
   "metadata": {},
   "outputs": [
    {
     "name": "stdout",
     "output_type": "stream",
     "text": [
      "+--------+------------------------------------------------------------------------------------------+------+\n",
      "|   class|                                                                                      text|length|\n",
      "+--------+------------------------------------------------------------------------------------------+------+\n",
      "|positive|                                                                  Wow... Loved this place.|    24|\n",
      "|negative|                                                                        Crust is not good.|    18|\n",
      "|negative|                                                 Not tasty and the texture was just nasty.|    41|\n",
      "|positive|   Stopped by during the late May bank holiday off Rick Steve recommendation and loved it.|    87|\n",
      "|positive|                               The selection on the menu was great and so were the prices.|    59|\n",
      "|negative|                                            Now I am getting angry and I want my damn pho.|    46|\n",
      "|negative|                                                     Honeslty it didn't taste THAT fresh.)|    37|\n",
      "|negative|The potatoes were like rubber and you could tell they had been made up ahead of time be...|   111|\n",
      "|positive|                                                                 The fries were great too.|    25|\n",
      "|positive|                                                                            A great touch.|    14|\n",
      "|positive|                                                                  Service was very prompt.|    24|\n",
      "|negative|                                                                        Would not go back.|    18|\n",
      "|negative|The cashier had no care what so ever on what I had to say it still ended up being wayyy...|    99|\n",
      "|positive|                               I tried the Cape Cod ravoli, chicken,with cranberry...mmmm!|    59|\n",
      "|negative|                            I was disgusted because I was pretty sure that was human hair.|    62|\n",
      "|negative|                                        I was shocked because no signs indicate cash only.|    50|\n",
      "|positive|                                                                       Highly recommended.|    19|\n",
      "|negative|                                                    Waitress was a little slow in service.|    38|\n",
      "|negative|                                       This place is not worth your time, let alone Vegas.|    51|\n",
      "|negative|                                                                      did not like at all.|    20|\n",
      "+--------+------------------------------------------------------------------------------------------+------+\n",
      "only showing top 20 rows\n",
      "\n"
     ]
    }
   ],
   "source": [
    "from pyspark.sql.functions import length\n",
    "\n",
    "# add length feature\n",
    "df = df.withColumn('length', length(df['text']))\n",
    "df.show(truncate=90)"
   ]
  },
  {
   "cell_type": "code",
   "execution_count": 6,
   "metadata": {},
   "outputs": [],
   "source": [
    "from pyspark.ml.feature import VectorAssembler\n",
    "\n",
    "# create feature vectors\n",
    "features_transformer = VectorAssembler(inputCols=['idf_tokens', 'length'], outputCol='features')"
   ]
  },
  {
   "cell_type": "code",
   "execution_count": 7,
   "metadata": {},
   "outputs": [],
   "source": [
    "from pyspark.ml import Pipeline\n",
    "\n",
    "# create a data processing Pipeline\n",
    "data_prep_pipeline = Pipeline(stages=[\n",
    "    pos_neg_transformer, \n",
    "    token_transformer, \n",
    "    stopwords_transformer, \n",
    "    hashing_transformer, \n",
    "    idf_transformer, \n",
    "    features_transformer\n",
    "])"
   ]
  },
  {
   "cell_type": "code",
   "execution_count": 8,
   "metadata": {},
   "outputs": [
    {
     "name": "stdout",
     "output_type": "stream",
     "text": [
      "+--------+----------+------+-----+----------+-----------+-----------+----------+----------+\n",
      "|   class|      text|length|label|    tokens|stop_tokens|hash_tokens|idf_tokens|  features|\n",
      "+--------+----------+------+-----+----------+-----------+-----------+----------+----------+\n",
      "|positive|Wow... ...|    24|  0.0|[wow......| [wow......| (262144...|(262144...|(262145...|\n",
      "|negative|Crust i...|    18|  1.0|[crust,...| [crust,...| (262144...|(262144...|(262145...|\n",
      "|negative|Not tas...|    41|  1.0|[not, t...| [tasty,...| (262144...|(262144...|(262145...|\n",
      "|positive|Stopped...|    87|  0.0|[stoppe...| [stoppe...| (262144...|(262144...|(262145...|\n",
      "|positive|The sel...|    59|  0.0|[the, s...| [select...| (262144...|(262144...|(262145...|\n",
      "|negative|Now I a...|    46|  1.0|[now, i...| [gettin...| (262144...|(262144...|(262145...|\n",
      "|negative|Honeslt...|    37|  1.0|[honesl...| [honesl...| (262144...|(262144...|(262145...|\n",
      "|negative|The pot...|   111|  1.0|[the, p...| [potato...| (262144...|(262144...|(262145...|\n",
      "|positive|The fri...|    25|  0.0|[the, f...| [fries,...| (262144...|(262144...|(262145...|\n",
      "|positive|A great...|    14|  0.0|[a, gre...| [great,...| (262144...|(262144...|(262145...|\n",
      "|positive|Service...|    24|  0.0|[servic...| [servic...| (262144...|(262144...|(262145...|\n",
      "|negative|Would n...|    18|  1.0|[would,...| [go, ba...| (262144...|(262144...|(262145...|\n",
      "|negative|The cas...|    99|  1.0|[the, c...| [cashie...| (262144...|(262144...|(262145...|\n",
      "|positive|I tried...|    59|  0.0|[i, tri...| [tried,...| (262144...|(262144...|(262145...|\n",
      "|negative|I was d...|    62|  1.0|[i, was...| [disgus...| (262144...|(262144...|(262145...|\n",
      "|negative|I was s...|    50|  1.0|[i, was...| [shocke...| (262144...|(262144...|(262145...|\n",
      "|positive|Highly ...|    19|  0.0|[highly...| [highly...| (262144...|(262144...|(262145...|\n",
      "|negative|Waitres...|    38|  1.0|[waitre...| [waitre...| (262144...|(262144...|(262145...|\n",
      "|negative|This pl...|    51|  1.0|[this, ...| [place,...| (262144...|(262144...|(262145...|\n",
      "|negative|did not...|    20|  1.0|[did, n...| [like, ...| (262144...|(262144...|(262145...|\n",
      "+--------+----------+------+-----+----------+-----------+-----------+----------+----------+\n",
      "only showing top 20 rows\n",
      "\n"
     ]
    }
   ],
   "source": [
    "# Fit and transform the pipeline\n",
    "cleaner = data_prep_pipeline.fit(df)\n",
    "cleaned = cleaner.transform(df)\n",
    "cleaned.show(truncate=10)"
   ]
  },
  {
   "cell_type": "code",
   "execution_count": 9,
   "metadata": {},
   "outputs": [
    {
     "name": "stdout",
     "output_type": "stream",
     "text": [
      "+--------+-----+------------------------------------------------------------------------------------------+\n",
      "|   class|label|                                                                                  features|\n",
      "+--------+-----+------------------------------------------------------------------------------------------+\n",
      "|positive|  0.0|(262145,[33933,69654,123604,262144],[4.51085950651685,6.215607598755275,3.8642323415917...|\n",
      "|negative|  1.0|               (262145,[150903,153353,262144],[3.7732605633860707,5.810142490647111,18.0])|\n",
      "|negative|  1.0|(262145,[63367,115881,227406,262144],[5.52246041819533,6.215607598755275,4.962844630259...|\n",
      "|positive|  0.0|(262145,[6286,27293,33933,53101,68727,76515,90362,140586,146390,188822,262144],[6.21560...|\n",
      "|positive|  0.0|(262145,[6979,91184,138356,151571,262144],[5.52246041819533,4.829313237635384,2.9197707...|\n",
      "|negative|  1.0|(262145,[24661,34140,98142,190256,255299,262144],[6.215607598755275,4.829313237635384,5...|\n",
      "|negative|  1.0|(262145,[101702,228557,252339,262144],[4.711530201979001,6.215607598755275,6.2156075987...|\n",
      "|negative|  1.0|(262145,[3645,85530,89720,121517,140784,144799,159927,189440,208258,262144],[6.21560759...|\n",
      "|positive|  0.0|(262145,[53777,138356,227926,262144],[5.29931686688112,2.9197707327509463,4.82931323763...|\n",
      "|positive|  0.0|               (262145,[138356,224853,262144],[2.9197707327509463,6.215607598755275,14.0])|\n",
      "|positive|  0.0|                 (262145,[24113,209466,262144],[2.883403088580071,6.215607598755275,24.0])|\n",
      "|negative|  1.0|                 (262145,[172477,195807,262144],[3.195182712610913,3.96431580014878,18.0])|\n",
      "|negative|  1.0|(262145,[36200,40861,51520,65212,102978,109230,185473,203802,262144],[4.423848129527220...|\n",
      "|positive|  0.0|(262145,[18098,83839,100079,111292,135859,243685,262144],[6.215607598755275,6.215607598...|\n",
      "|negative|  1.0|(262145,[89493,95906,133777,134125,175449,262144],[6.215607598755275,5.810142490647111,...|\n",
      "|negative|  1.0|(262145,[86431,101445,129941,137657,159775,262144],[6.215607598755275,5.810142490647111...|\n",
      "|positive|  0.0|                  (262145,[31704,215473,262144],[5.29931686688112,6.215607598755275,19.0])|\n",
      "|negative|  1.0|(262145,[27707,65069,147752,181519,262144],[4.962844630259907,4.075541435259004,4.71153...|\n",
      "|negative|  1.0|(262145,[12329,61231,64188,102787,115653,152959,262144],[6.215607598755275,2.5780214390...|\n",
      "|negative|  1.0|                  (262145,[8287,208258,262144],[5.810142490647111,3.147554663621658,20.0])|\n",
      "+--------+-----+------------------------------------------------------------------------------------------+\n",
      "only showing top 20 rows\n",
      "\n"
     ]
    }
   ],
   "source": [
    "cleaned.select(['class', 'label', 'features']).show(truncate=90)"
   ]
  },
  {
   "cell_type": "code",
   "execution_count": 10,
   "metadata": {},
   "outputs": [],
   "source": [
    "from pyspark.ml.classification import NaiveBayes\n",
    "\n",
    "# split training and testing data\n",
    "train, test = cleaned.randomSplit([0.75, 0.25])\n",
    "\n",
    "# create a Naive Bayes model and fit training data\n",
    "nb = NaiveBayes()\n",
    "predictor = nb.fit(train)"
   ]
  },
  {
   "cell_type": "code",
   "execution_count": 11,
   "metadata": {},
   "outputs": [
    {
     "name": "stdout",
     "output_type": "stream",
     "text": [
      "+--------+--------------------+------+-----+--------------------+--------------------+--------------------+--------------------+--------------------+--------------------+--------------------+----------+\n",
      "|   class|                text|length|label|              tokens|         stop_tokens|         hash_tokens|          idf_tokens|            features|       rawPrediction|         probability|prediction|\n",
      "+--------+--------------------+------+-----+--------------------+--------------------+--------------------+--------------------+--------------------+--------------------+--------------------+----------+\n",
      "|negative|\"It was extremely...|    51|  1.0|[\"it, was, extrem...|[\"it, extremely, ...|(262144,[7388,163...|(262144,[7388,163...|(262145,[7388,163...|[-463.83432142333...|[0.00884727968197...|       1.0|\n",
      "|negative|\"The servers went...|    97|  1.0|[\"the, servers, w...|[\"the, servers, w...|(262144,[67991,76...|(262144,[67991,76...|(262145,[67991,76...|[-910.02214478209...|[6.95199911010009...|       1.0|\n",
      "|negative|\"the food is not ...|    80|  1.0|[\"the, food, is, ...|[\"the, food, tast...|(262144,[65212,68...|(262144,[65212,68...|(262145,[65212,68...|[-760.23874552332...|[1.70148553281628...|       1.0|\n",
      "|negative|After waiting an ...|    75|  1.0|[after, waiting, ...|[waiting, hour, s...|(262144,[17519,98...|(262144,[17519,98...|(262145,[17519,98...|[-571.30055455314...|[3.05820049692264...|       1.0|\n",
      "|negative|Any grandmother c...|    64|  1.0|[any, grandmother...|[grandmother, mak...|(262144,[89717,90...|(262144,[89717,90...|(262145,[89717,90...|[-508.12839667934...|[0.99999499356433...|       0.0|\n",
      "+--------+--------------------+------+-----+--------------------+--------------------+--------------------+--------------------+--------------------+--------------------+--------------------+----------+\n",
      "only showing top 5 rows\n",
      "\n"
     ]
    }
   ],
   "source": [
    "# tranform the model with the testing data\n",
    "test_results = predictor.transform(test)\n",
    "test_results.show(5)"
   ]
  },
  {
   "cell_type": "code",
   "execution_count": 12,
   "metadata": {},
   "outputs": [
    {
     "name": "stdout",
     "output_type": "stream",
     "text": [
      "+--------+-----+----------+\n",
      "|   class|label|prediction|\n",
      "+--------+-----+----------+\n",
      "|negative|  1.0|       1.0|\n",
      "|negative|  1.0|       1.0|\n",
      "|negative|  1.0|       1.0|\n",
      "|negative|  1.0|       1.0|\n",
      "|negative|  1.0|       0.0|\n",
      "|negative|  1.0|       1.0|\n",
      "|negative|  1.0|       1.0|\n",
      "|negative|  1.0|       1.0|\n",
      "|negative|  1.0|       1.0|\n",
      "|negative|  1.0|       1.0|\n",
      "|negative|  1.0|       1.0|\n",
      "|negative|  1.0|       0.0|\n",
      "|negative|  1.0|       1.0|\n",
      "|negative|  1.0|       1.0|\n",
      "|negative|  1.0|       1.0|\n",
      "|negative|  1.0|       1.0|\n",
      "|negative|  1.0|       1.0|\n",
      "|negative|  1.0|       1.0|\n",
      "|negative|  1.0|       1.0|\n",
      "|negative|  1.0|       1.0|\n",
      "+--------+-----+----------+\n",
      "only showing top 20 rows\n",
      "\n"
     ]
    }
   ],
   "source": [
    "test_results.select('class', 'label', 'prediction').show()"
   ]
  },
  {
   "cell_type": "code",
   "execution_count": 13,
   "metadata": {},
   "outputs": [
    {
     "name": "stdout",
     "output_type": "stream",
     "text": [
      "Accuracy of model at predicting reviews was: 0.7202232901709829\n"
     ]
    }
   ],
   "source": [
    "from pyspark.ml.evaluation import MulticlassClassificationEvaluator\n",
    "\n",
    "# use the ClassificationEvaluator to check accuracy\n",
    "acc_eval = MulticlassClassificationEvaluator()\n",
    "acc = acc_eval.evaluate(test_results)\n",
    "\n",
    "print(f\"Accuracy of model at predicting reviews was: {acc}\")"
   ]
  }
 ],
 "metadata": {
  "kernel_info": {
   "name": "python3"
  },
  "kernelspec": {
   "display_name": "Python 3",
   "language": "python",
   "name": "python3"
  },
  "language_info": {
   "codemirror_mode": {
    "name": "ipython",
    "version": 3
   },
   "file_extension": ".py",
   "mimetype": "text/x-python",
   "name": "python",
   "nbconvert_exporter": "python",
   "pygments_lexer": "ipython3",
   "version": "3.6.5"
  },
  "nteract": {
   "version": "0.11.2"
  },
  "varInspector": {
   "cols": {
    "lenName": 16,
    "lenType": 16,
    "lenVar": 40
   },
   "kernels_config": {
    "python": {
     "delete_cmd_postfix": "",
     "delete_cmd_prefix": "del ",
     "library": "var_list.py",
     "varRefreshCmd": "print(var_dic_list())"
    },
    "r": {
     "delete_cmd_postfix": ") ",
     "delete_cmd_prefix": "rm(",
     "library": "var_list.r",
     "varRefreshCmd": "cat(var_dic_list()) "
    }
   },
   "types_to_exclude": [
    "module",
    "function",
    "builtin_function_or_method",
    "instance",
    "_Feature"
   ],
   "window_display": false
  }
 },
 "nbformat": 4,
 "nbformat_minor": 2
}
