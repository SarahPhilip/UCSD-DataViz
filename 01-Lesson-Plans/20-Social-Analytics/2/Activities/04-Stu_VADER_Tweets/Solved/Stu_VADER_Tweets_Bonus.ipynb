{
 "cells": [
  {
   "cell_type": "code",
   "execution_count": 1,
   "metadata": {},
   "outputs": [],
   "source": [
    "import tweepy\n",
    "import numpy as np\n",
    "import pandas as pd\n",
    "\n",
    "from vaderSentiment.vaderSentiment import SentimentIntensityAnalyzer\n",
    "\n",
    "from config import consumer_key, consumer_secret, access_token, access_token_secret"
   ]
  },
  {
   "cell_type": "code",
   "execution_count": 2,
   "metadata": {},
   "outputs": [],
   "source": [
    "# Setup Tweepy API Authentication\n",
    "auth = tweepy.OAuthHandler(consumer_key, consumer_secret)\n",
    "auth.set_access_token(access_token, access_token_secret)\n",
    "api = tweepy.API(auth, parser=tweepy.parsers.JSONParser())\n",
    "\n",
    "# Setup sentiment analyzer\n",
    "analyzer = SentimentIntensityAnalyzer()"
   ]
  },
  {
   "cell_type": "code",
   "execution_count": 3,
   "metadata": {},
   "outputs": [
    {
     "name": "stdout",
     "output_type": "stream",
     "text": [
      "User: @DalaiLama\n",
      "Compound: 0.441\n",
      "Positive: 0.250\n",
      "Neutral: 0.687\n",
      "Negative: 0.062\n",
      "User: @realdonaldtrump\n",
      "Compound: 0.218\n",
      "Positive: 0.147\n",
      "Neutral: 0.796\n",
      "Negative: 0.057\n",
      "User: @katyperry\n",
      "Compound: 0.221\n",
      "Positive: 0.127\n",
      "Neutral: 0.842\n",
      "Negative: 0.031\n"
     ]
    }
   ],
   "source": [
    "# Target User Accounts\n",
    "target_user = [\"@DalaiLama\", \"@realdonaldtrump\", \"@katyperry\"]\n",
    "\n",
    "# List for dictionaries of results\n",
    "results_list = []\n",
    "\n",
    "# Loop through each user\n",
    "for user in target_user:\n",
    "\n",
    "    # Variables for holding sentiments\n",
    "    compound_list = []\n",
    "    positive_list = []\n",
    "    negative_list = []\n",
    "    neutral_list = []\n",
    "\n",
    "    # Loop through 10 pages of tweets (total 200 tweets)\n",
    "    for x in range(1, 11):\n",
    "\n",
    "        # Loop through all tweets\n",
    "        for tweet in api.user_timeline(user, page=x):\n",
    "\n",
    "            # Run Vader Analysis on each tweet\n",
    "            results = analyzer.polarity_scores(tweet[\"text\"])\n",
    "            compound = results[\"compound\"]\n",
    "            pos = results[\"pos\"]\n",
    "            neu = results[\"neu\"]\n",
    "            neg = results[\"neg\"]\n",
    "\n",
    "            # Add each value to the appropriate list\n",
    "            compound_list.append(compound)\n",
    "            positive_list.append(pos)\n",
    "            negative_list.append(neg)\n",
    "            neutral_list.append(neu)\n",
    "\n",
    "    # Create a dictionaty of results\n",
    "    user_results = {\n",
    "        \"Username\": user,\n",
    "        \"Compound Score\": np.mean(compound_list),\n",
    "        \"Postive Score\": np.mean(positive_list),\n",
    "        \"Neutral Score\": np.mean(neutral_list),\n",
    "        \"Negative Score\": np.mean(negative_list)\n",
    "    }\n",
    "\n",
    "    # Append dictionary to list\n",
    "    results_list.append(user_results)\n",
    "\n",
    "    # Print the Averages\n",
    "    print(f\"User: {user}\")\n",
    "    print(f\"Compound: {np.mean(compound_list):.3f}\")\n",
    "    print(f\"Positive: {np.mean(positive_list):.3f}\")\n",
    "    print(f\"Neutral: {np.mean(neutral_list):.3f}\")\n",
    "    print(f\"Negative: {np.mean(negative_list):.3f}\")"
   ]
  },
  {
   "cell_type": "code",
   "execution_count": 4,
   "metadata": {},
   "outputs": [
    {
     "data": {
      "text/html": [
       "<div>\n",
       "<style scoped>\n",
       "    .dataframe tbody tr th:only-of-type {\n",
       "        vertical-align: middle;\n",
       "    }\n",
       "\n",
       "    .dataframe tbody tr th {\n",
       "        vertical-align: top;\n",
       "    }\n",
       "\n",
       "    .dataframe thead th {\n",
       "        text-align: right;\n",
       "    }\n",
       "</style>\n",
       "<table border=\"1\" class=\"dataframe\">\n",
       "  <thead>\n",
       "    <tr style=\"text-align: right;\">\n",
       "      <th></th>\n",
       "      <th>Compound Score</th>\n",
       "      <th>Negative Score</th>\n",
       "      <th>Neutral Score</th>\n",
       "      <th>Postive Score</th>\n",
       "    </tr>\n",
       "    <tr>\n",
       "      <th>Username</th>\n",
       "      <th></th>\n",
       "      <th></th>\n",
       "      <th></th>\n",
       "      <th></th>\n",
       "    </tr>\n",
       "  </thead>\n",
       "  <tbody>\n",
       "    <tr>\n",
       "      <th>@DalaiLama</th>\n",
       "      <td>0.441</td>\n",
       "      <td>0.062</td>\n",
       "      <td>0.687</td>\n",
       "      <td>0.250</td>\n",
       "    </tr>\n",
       "    <tr>\n",
       "      <th>@realdonaldtrump</th>\n",
       "      <td>0.218</td>\n",
       "      <td>0.057</td>\n",
       "      <td>0.796</td>\n",
       "      <td>0.147</td>\n",
       "    </tr>\n",
       "    <tr>\n",
       "      <th>@katyperry</th>\n",
       "      <td>0.221</td>\n",
       "      <td>0.031</td>\n",
       "      <td>0.842</td>\n",
       "      <td>0.127</td>\n",
       "    </tr>\n",
       "  </tbody>\n",
       "</table>\n",
       "</div>"
      ],
      "text/plain": [
       "                  Compound Score  Negative Score  Neutral Score  Postive Score\n",
       "Username                                                                      \n",
       "@DalaiLama                 0.441           0.062          0.687          0.250\n",
       "@realdonaldtrump           0.218           0.057          0.796          0.147\n",
       "@katyperry                 0.221           0.031          0.842          0.127"
      ]
     },
     "execution_count": 4,
     "metadata": {},
     "output_type": "execute_result"
    }
   ],
   "source": [
    "# Create DataFrame from Results List\n",
    "results_df = pd.DataFrame(results_list).set_index(\"Username\").round(3)\n",
    "results_df"
   ]
  }
 ],
 "metadata": {
  "kernelspec": {
   "display_name": "Python 3",
   "language": "python",
   "name": "python3"
  },
  "language_info": {
   "codemirror_mode": {
    "name": "ipython",
    "version": 3
   },
   "file_extension": ".py",
   "mimetype": "text/x-python",
   "name": "python",
   "nbconvert_exporter": "python",
   "pygments_lexer": "ipython3",
   "version": "3.6.5"
  },
  "varInspector": {
   "cols": {
    "lenName": 16,
    "lenType": 16,
    "lenVar": 40
   },
   "kernels_config": {
    "python": {
     "delete_cmd_postfix": "",
     "delete_cmd_prefix": "del ",
     "library": "var_list.py",
     "varRefreshCmd": "print(var_dic_list())"
    },
    "r": {
     "delete_cmd_postfix": ") ",
     "delete_cmd_prefix": "rm(",
     "library": "var_list.r",
     "varRefreshCmd": "cat(var_dic_list()) "
    }
   },
   "types_to_exclude": [
    "module",
    "function",
    "builtin_function_or_method",
    "instance",
    "_Feature"
   ],
   "window_display": false
  }
 },
 "nbformat": 4,
 "nbformat_minor": 2
}
