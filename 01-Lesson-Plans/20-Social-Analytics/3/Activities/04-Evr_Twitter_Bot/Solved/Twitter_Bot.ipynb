{
 "cells": [
  {
   "cell_type": "code",
   "execution_count": null,
   "metadata": {},
   "outputs": [],
   "source": [
    "import tweepy\n",
    "import spacy\n",
    "import pandas as pd\n",
    "import matplotlib.pyplot as plt\n",
    "import time\n",
    "\n",
    "from config import consumer_key, consumer_secret, access_token, access_token_secret"
   ]
  },
  {
   "cell_type": "code",
   "execution_count": null,
   "metadata": {},
   "outputs": [],
   "source": [
    "# Setup Tweepy API Authentication\n",
    "auth = tweepy.OAuthHandler(consumer_key, consumer_secret)\n",
    "auth.set_access_token(access_token, access_token_secret)\n",
    "api = tweepy.API(auth, parser=tweepy.parsers.JSONParser())\n",
    "\n",
    "# Load model\n",
    "nlp = spacy.load('en')"
   ]
  },
  {
   "cell_type": "code",
   "execution_count": null,
   "metadata": {},
   "outputs": [],
   "source": [
    "def post_analysis(username):\n",
    "\n",
    "    # Create dictionary to hold text and label entities\n",
    "    tweet_dict = {\"text\": [], \"label\": []}\n",
    "\n",
    "    # Get tweets from a users timeline\n",
    "    user_tweets = api.user_timeline(username)\n",
    "\n",
    "    # Loop throught tweets\n",
    "    for tweet in user_tweets:    \n",
    "        doc = nlp(tweet[\"text\"])\n",
    "        if doc.ents:\n",
    "            for ent in doc.ents:\n",
    "                tweet_dict[\"text\"].append(ent.text)\n",
    "                tweet_dict[\"label\"].append(ent.label_)\n",
    "\n",
    "    # Convert dictionary to DataFrame\n",
    "    tweet_df = pd.DataFrame(tweet_dict)\n",
    "    tweet_df.head()\n",
    "    \n",
    "    # Group by labels\n",
    "    label_frequency = tweet_df.groupby(['label']).count()\n",
    "\n",
    "    # Show bar chart\n",
    "    label_frequency.plot.bar()    \n",
    "\n",
    "    # Save bar chart to png\n",
    "    plt.savefig('chart.png')\n",
    "    \n",
    "    # Get bar graph as a figure and tweet chart\n",
    "    api.update_with_media('chart.png', f'Tweet labels for @{username}')"
   ]
  },
  {
   "cell_type": "code",
   "execution_count": null,
   "metadata": {},
   "outputs": [],
   "source": [
    "# post_analysis('CNN')"
   ]
  },
  {
   "cell_type": "code",
   "execution_count": null,
   "metadata": {},
   "outputs": [],
   "source": [
    "me = 'TylerUCSD'"
   ]
  },
  {
   "cell_type": "code",
   "execution_count": null,
   "metadata": {},
   "outputs": [],
   "source": [
    "def find_completed_requests():\n",
    "    tweets = api.user_timeline(rpp=1000)\n",
    "\n",
    "    completed_requests = set()\n",
    "    for tweet in tweets:\n",
    "        if 'labels for' not in tweet['text']:\n",
    "            continue        \n",
    "        for user_mention in tweet['entities']['user_mentions']:\n",
    "            if user_mention['screen_name'] != me:\n",
    "                completed_requests.add(user_mention['screen_name'])\n",
    "                \n",
    "    return completed_requests\n",
    "\n",
    "completed_requests = find_completed_requests()\n",
    "print('Completed Requests:', completed_requests)"
   ]
  },
  {
   "cell_type": "code",
   "execution_count": null,
   "metadata": {},
   "outputs": [],
   "source": [
    "def find_next_request():\n",
    "    tweets = api.search(f'@{me} Analyze:')['statuses']\n",
    "    \n",
    "    requests = set()\n",
    "    for tweet in tweets:\n",
    "        for user_mention in tweet['entities']['user_mentions']:\n",
    "            if user_mention['screen_name'] != me:\n",
    "                requests.add(user_mention['screen_name'])\n",
    "        \n",
    "    new_requests = requests - find_completed_requests()\n",
    "    \n",
    "    try:\n",
    "        return new_requests.pop()\n",
    "    except:\n",
    "        return None\n",
    "    \n",
    "next_request = find_next_request()\n",
    "print('Next Request:', next_request)"
   ]
  },
  {
   "cell_type": "code",
   "execution_count": null,
   "metadata": {},
   "outputs": [],
   "source": [
    "if next_request:\n",
    "    post_analysis(next_request)"
   ]
  },
  {
   "cell_type": "code",
   "execution_count": null,
   "metadata": {},
   "outputs": [],
   "source": [
    "while True:\n",
    "    print(\"Updating Twitter\")\n",
    "\n",
    "    next_request = find_next_request()\n",
    "    print('Next Request:', next_request)\n",
    "    \n",
    "    if next_request:\n",
    "        post_analysis(next_request)\n",
    "    \n",
    "    time.sleep(20)"
   ]
  }
 ],
 "metadata": {
  "kernelspec": {
   "display_name": "Python 3",
   "language": "python",
   "name": "python3"
  },
  "language_info": {
   "codemirror_mode": {
    "name": "ipython",
    "version": 3
   },
   "file_extension": ".py",
   "mimetype": "text/x-python",
   "name": "python",
   "nbconvert_exporter": "python",
   "pygments_lexer": "ipython3",
   "version": "3.6.5"
  }
 },
 "nbformat": 4,
 "nbformat_minor": 2
}
