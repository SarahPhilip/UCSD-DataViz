{
 "cells": [
  {
   "cell_type": "code",
   "execution_count": 1,
   "metadata": {},
   "outputs": [],
   "source": [
    "import tweepy\n",
    "import json\n",
    "import numpy as np\n",
    "\n",
    "from config import consumer_key, consumer_secret, access_token, access_token_secret\n",
    "\n",
    "from vaderSentiment.vaderSentiment import SentimentIntensityAnalyzer"
   ]
  },
  {
   "cell_type": "code",
   "execution_count": 2,
   "metadata": {},
   "outputs": [],
   "source": [
    "# Setup Tweepy API Authentication\n",
    "auth = tweepy.OAuthHandler(consumer_key, consumer_secret)\n",
    "auth.set_access_token(access_token, access_token_secret)\n",
    "api = tweepy.API(auth, parser=tweepy.parsers.JSONParser())\n",
    "\n",
    "# Import and Initialize Sentiment Analyzer\n",
    "analyzer = SentimentIntensityAnalyzer()"
   ]
  },
  {
   "cell_type": "code",
   "execution_count": 4,
   "metadata": {},
   "outputs": [],
   "source": [
    "# Lists to hold sentiments\n",
    "compound_list = []\n",
    "positive_list = []\n",
    "negative_list = []\n",
    "neutral_list = []"
   ]
  },
  {
   "cell_type": "code",
   "execution_count": 5,
   "metadata": {},
   "outputs": [],
   "source": [
    "# Target Search Term\n",
    "target_term = \"@CNNbrk\"\n",
    "\n",
    "# Grab 25 tweets\n",
    "tweets = api.search(target_term, count=25, result_type=\"recent\")"
   ]
  },
  {
   "cell_type": "code",
   "execution_count": 6,
   "metadata": {},
   "outputs": [],
   "source": [
    "# Loop through all tweets\n",
    "for tweet in tweets[\"statuses\"]:\n",
    "\n",
    "    # Run Vader Analysis on tweet\n",
    "    scores = analyzer.polarity_scores(tweet[\"text\"])\n",
    "    \n",
    "    # Add each value to the appropriate array\n",
    "    compound_list.append(scores['compound'])\n",
    "    positive_list.append(scores['pos'])\n",
    "    negative_list.append(scores['neg'])\n",
    "    neutral_list.append(scores['neu'])"
   ]
  },
  {
   "cell_type": "code",
   "execution_count": 7,
   "metadata": {},
   "outputs": [
    {
     "name": "stdout",
     "output_type": "stream",
     "text": [
      "{'Compound': -0.182484, 'Positive': 0.04776, 'Neutral': 0.12804, 'Negative': 0.8241999999999998}\n"
     ]
    }
   ],
   "source": [
    "# Print the Average Sentiments\n",
    "print({\n",
    "    \"Compound\": np.mean(compound_list),\n",
    "    \"Positive\": np.mean(positive_list),\n",
    "    \"Neutral\": np.mean(negative_list),\n",
    "    \"Negative\": np.mean(neutral_list)\n",
    "})"
   ]
  }
 ],
 "metadata": {
  "kernelspec": {
   "display_name": "Python 3",
   "language": "python",
   "name": "python3"
  },
  "language_info": {
   "codemirror_mode": {
    "name": "ipython",
    "version": 3
   },
   "file_extension": ".py",
   "mimetype": "text/x-python",
   "name": "python",
   "nbconvert_exporter": "python",
   "pygments_lexer": "ipython3",
   "version": "3.6.5"
  },
  "nteract": {
   "version": "0.8.4"
  }
 },
 "nbformat": 4,
 "nbformat_minor": 2
}
