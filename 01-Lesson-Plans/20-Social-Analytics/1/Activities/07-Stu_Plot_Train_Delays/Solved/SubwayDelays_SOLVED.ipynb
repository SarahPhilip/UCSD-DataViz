{
 "cells": [
  {
   "cell_type": "code",
   "execution_count": 1,
   "metadata": {},
   "outputs": [],
   "source": [
    "import tweepy\n",
    "import json\n",
    "import pandas as pd\n",
    "import matplotlib.pyplot as plt\n",
    "\n",
    "from config import consumer_key, consumer_secret, access_token, access_token_secret"
   ]
  },
  {
   "cell_type": "code",
   "execution_count": 2,
   "metadata": {},
   "outputs": [],
   "source": [
    "# Setup Tweepy API Authentication\n",
    "auth = tweepy.OAuthHandler(consumer_key, consumer_secret)\n",
    "auth.set_access_token(access_token, access_token_secret)\n",
    "api = tweepy.API(auth, parser=tweepy.parsers.JSONParser())"
   ]
  },
  {
   "cell_type": "code",
   "execution_count": 3,
   "metadata": {
    "scrolled": true
   },
   "outputs": [],
   "source": [
    "# Array of Trains\n",
    "delayed_trains = {}\n",
    "    \n",
    "# Target User\n",
    "target_user = \"SubwayStats\"\n",
    "\n",
    "# Loop through 50 pages of tweets\n",
    "for p in range(1, 51):\n",
    "\n",
    "    # Loop through all tweets\n",
    "    for tweet in api.user_timeline(target_user, page=p):\n",
    "        \n",
    "        # Loop through hashtags to extract the train names\n",
    "        for hashtag in tweet[\"entities\"][\"hashtags\"]:\n",
    "            \n",
    "            # Get train name from lowercase hashtag name\n",
    "            train_name = hashtag['text'].lower()\n",
    "            \n",
    "            # Skip train names that don't contain 'train'\n",
    "            if 'train' not in train_name:\n",
    "                continue\n",
    "            \n",
    "            # If train is new, add it the list...\n",
    "            if train_name not in delayed_trains:\n",
    "                delayed_trains[train_name] = 1\n",
    "\n",
    "            # If it already exists add 1 to its count\n",
    "            else:    \n",
    "                delayed_trains[train_name] += 1"
   ]
  },
  {
   "cell_type": "code",
   "execution_count": 4,
   "metadata": {},
   "outputs": [
    {
     "name": "stdout",
     "output_type": "stream",
     "text": [
      "{'jtrain': 40, 'ztrain': 40, 'ntrain': 157, 'qtrain': 157, 'rtrain': 157, 'wtrain': 157, '7train': 33, '4train': 155, '5train': 155, '6train': 155, 'btrain': 195, 'dtrain': 195, 'ftrain': 195, 'mtrain': 195, 'gtrain': 27, 'atrain': 131, 'ctrain': 131, 'etrain': 131, 'ltrain': 48, 'sirtrain': 35, '1train': 156, '2train': 156, '3train': 156, 'strain': 23}\n"
     ]
    },
    {
     "data": {
      "text/plain": [
       "jtrain       40\n",
       "ztrain       40\n",
       "ntrain      157\n",
       "qtrain      157\n",
       "rtrain      157\n",
       "wtrain      157\n",
       "7train       33\n",
       "4train      155\n",
       "5train      155\n",
       "6train      155\n",
       "btrain      195\n",
       "dtrain      195\n",
       "ftrain      195\n",
       "mtrain      195\n",
       "gtrain       27\n",
       "atrain      131\n",
       "ctrain      131\n",
       "etrain      131\n",
       "ltrain       48\n",
       "sirtrain     35\n",
       "1train      156\n",
       "2train      156\n",
       "3train      156\n",
       "strain       23\n",
       "dtype: int64"
      ]
     },
     "execution_count": 4,
     "metadata": {},
     "output_type": "execute_result"
    }
   ],
   "source": [
    "# Print the Train Delay counts\n",
    "print(delayed_trains)\n",
    "\n",
    "# Convert Train Delay object into a series\n",
    "delayed_trains_pd = pd.Series(delayed_trains)\n",
    "\n",
    "# Preview the results\n",
    "delayed_trains_pd"
   ]
  },
  {
   "cell_type": "code",
   "execution_count": 5,
   "metadata": {
    "scrolled": true
   },
   "outputs": [
    {
     "data": {
      "text/plain": [
       "Text(0.5,1,'Number of Train Delays According to 1000 Subway Status Tweets...')"
      ]
     },
     "execution_count": 5,
     "metadata": {},
     "output_type": "execute_result"
    },
    {
     "data": {
      "image/png": "[encoded data removed]",
      "text/plain": [
       "<Figure size 432x288 with 1 Axes>"
      ]
     },
     "metadata": {},
     "output_type": "display_data"
    }
   ],
   "source": [
    "# Create a plot of train name vs number of delays\n",
    "plt.bar(delayed_trains_pd.index, delayed_trains_pd.values)\n",
    "plt.xticks(delayed_trains_pd.index, rotation=90)\n",
    "plt.ylabel(\"Number of Delays\")\n",
    "plt.xlabel(\"Train Name\")\n",
    "plt.title(\"Number of Train Delays According to 1000 Subway Status Tweets...\")"
   ]
  }
 ],
 "metadata": {
  "anaconda-cloud": {},
  "kernelspec": {
   "display_name": "Python 3",
   "language": "python",
   "name": "python3"
  },
  "language_info": {
   "codemirror_mode": {
    "name": "ipython",
    "version": 3
   },
   "file_extension": ".py",
   "mimetype": "text/x-python",
   "name": "python",
   "nbconvert_exporter": "python",
   "pygments_lexer": "ipython3",
   "version": "3.6.5"
  },
  "varInspector": {
   "cols": {
    "lenName": 16,
    "lenType": 16,
    "lenVar": 40
   },
   "kernels_config": {
    "python": {
     "delete_cmd_postfix": "",
     "delete_cmd_prefix": "del ",
     "library": "var_list.py",
     "varRefreshCmd": "print(var_dic_list())"
    },
    "r": {
     "delete_cmd_postfix": ") ",
     "delete_cmd_prefix": "rm(",
     "library": "var_list.r",
     "varRefreshCmd": "cat(var_dic_list()) "
    }
   },
   "types_to_exclude": [
    "module",
    "function",
    "builtin_function_or_method",
    "instance",
    "_Feature"
   ],
   "window_display": false
  }
 },
 "nbformat": 4,
 "nbformat_minor": 1
}
