{
 "cells": [
  {
   "cell_type": "code",
   "execution_count": null,
   "metadata": {},
   "outputs": [],
   "source": [
    "import tweepy\n",
    "import json\n",
    "import pandas as pd\n",
    "import matplotlib.pyplot as plt\n",
    "\n",
    "from config import consumer_key, consumer_secret, access_token, access_token_secret"
   ]
  },
  {
   "cell_type": "code",
   "execution_count": null,
   "metadata": {},
   "outputs": [],
   "source": [
    "# Setup Tweepy API Authentication\n",
    "auth = tweepy.OAuthHandler(consumer_key, consumer_secret)\n",
    "auth.set_access_token(access_token, access_token_secret)\n",
    "api = tweepy.API(auth, parser=tweepy.parsers.JSONParser())"
   ]
  },
  {
   "cell_type": "code",
   "execution_count": null,
   "metadata": {
    "scrolled": true
   },
   "outputs": [],
   "source": [
    "# Array of Trains\n",
    "delayed_trains = {}\n",
    "    \n",
    "# Target User\n",
    "target_user = \"SubwayStats\"\n",
    "\n",
    "# Loop through 50 pages of tweets\n",
    "for p in range(1, 51):\n",
    "\n",
    "    # Loop through all tweets\n",
    "    # YOUR CODE HERE\n",
    "        \n",
    "        # Loop through hashtags to extract the train names\n",
    "        # YOUR CODE HERE\n",
    "            \n",
    "            # Get train name from lowercase hashtag name\n",
    "            # YOUR CODE HERE\n",
    "            \n",
    "            # Skip train names that don't contain 'train'\n",
    "            # YOUR CODE HERE\n",
    "            \n",
    "            # If train is new, add it the list...\n",
    "            # YOUR CODE HERE\n",
    "\n",
    "            # If it already exists add 1 to its count\n",
    "            # YOUR CODE HERE"
   ]
  },
  {
   "cell_type": "code",
   "execution_count": null,
   "metadata": {},
   "outputs": [],
   "source": [
    "# Print the Train Delay counts\n",
    "print(delayed_trains)\n",
    "\n",
    "# Convert Train Delay object into a series\n",
    "delayed_trains_pd = pd.Series(delayed_trains)\n",
    "\n",
    "# Preview the results\n",
    "delayed_trains_pd"
   ]
  },
  {
   "cell_type": "code",
   "execution_count": null,
   "metadata": {
    "scrolled": true
   },
   "outputs": [],
   "source": [
    "# Create a plot of train name vs number of delays\n",
    "# YOUR CODE HERE"
   ]
  }
 ],
 "metadata": {
  "anaconda-cloud": {},
  "kernelspec": {
   "display_name": "Python 3",
   "language": "python",
   "name": "python3"
  },
  "language_info": {
   "codemirror_mode": {
    "name": "ipython",
    "version": 3
   },
   "file_extension": ".py",
   "mimetype": "text/x-python",
   "name": "python",
   "nbconvert_exporter": "python",
   "pygments_lexer": "ipython3",
   "version": "3.6.5"
  },
  "varInspector": {
   "cols": {
    "lenName": 16,
    "lenType": 16,
    "lenVar": 40
   },
   "kernels_config": {
    "python": {
     "delete_cmd_postfix": "",
     "delete_cmd_prefix": "del ",
     "library": "var_list.py",
     "varRefreshCmd": "print(var_dic_list())"
    },
    "r": {
     "delete_cmd_postfix": ") ",
     "delete_cmd_prefix": "rm(",
     "library": "var_list.r",
     "varRefreshCmd": "cat(var_dic_list()) "
    }
   },
   "types_to_exclude": [
    "module",
    "function",
    "builtin_function_or_method",
    "instance",
    "_Feature"
   ],
   "window_display": false
  }
 },
 "nbformat": 4,
 "nbformat_minor": 1
}
