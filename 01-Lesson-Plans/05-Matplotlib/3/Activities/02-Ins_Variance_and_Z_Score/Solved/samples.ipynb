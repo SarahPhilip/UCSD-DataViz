{
 "cells": [
  {
   "cell_type": "code",
   "execution_count": 26,
   "metadata": {},
   "outputs": [],
   "source": [
    "import scipy\n",
    "from scipy import stats\n",
    "\n",
    "from pprint import pprint"
   ]
  },
  {
   "cell_type": "code",
   "execution_count": 33,
   "metadata": {},
   "outputs": [],
   "source": [
    "def summarize(title, arr):\n",
    "    print(f\"Summarizing {title}\")\n",
    "    print(f\"Mean: {scipy.mean(arr)}\")\n",
    "    print(f\"Variance: {scipy.var(arr)}\")\n",
    "    print(f\"Standard Deviation: {scipy.std(arr)}\")\n",
    "    print(f\"Z-Scores: \")\n",
    "    pprint(list(zip(arr, stats.zscore(arr))))"
   ]
  },
  {
   "cell_type": "code",
   "execution_count": 35,
   "metadata": {},
   "outputs": [
    {
     "name": "stdout",
     "output_type": "stream",
     "text": [
      "Summarizing Prices\n",
      "Mean: 878.8\n",
      "Variance: 1177294.9599999997\n",
      "Standard Deviation: 1085.032239152367\n",
      "Z-Scores: \n",
      "[(4, -0.8062433247913429),\n",
      " (425, -0.41823642065650596),\n",
      " (984, 0.09695564445364577),\n",
      " (2932, 1.8922940037283782),\n",
      " (49, -0.7647699027341751)]\n"
     ]
    }
   ],
   "source": [
    "# Prices of random electronics at Best Buy\n",
    "prices = [4, 425, 984, 2932, 49]\n",
    "summarize(\"Prices\", prices)"
   ]
  },
  {
   "cell_type": "code",
   "execution_count": 36,
   "metadata": {},
   "outputs": [
    {
     "name": "stdout",
     "output_type": "stream",
     "text": [
      "Summarizing Bootcamp Ages\n",
      "Mean: 36.666666666666664\n",
      "Variance: 72.55555555555556\n",
      "Standard Deviation: 8.517954892787092\n",
      "Z-Scores: \n",
      "[(27, -1.1348576962825065),\n",
      " (35, -0.19566512004870779),\n",
      " (42, 0.6261283841558661),\n",
      " (52, 1.8001191044481146),\n",
      " (36, -0.07826604801948295),\n",
      " (28, -1.0174586242532817)]\n"
     ]
    }
   ],
   "source": [
    "# Ages of students in bootcamp\n",
    "bootcamp_classroom_ages = [27, 35, 42, 52, 36, 28]\n",
    "summarize(\"Bootcamp Ages\", bootcamp_classroom_ages)"
   ]
  },
  {
   "cell_type": "code",
   "execution_count": 37,
   "metadata": {},
   "outputs": [
    {
     "name": "stdout",
     "output_type": "stream",
     "text": [
      "Summarizing Birthday Party Ages\n",
      "Mean: 19.142857142857142\n",
      "Variance: 244.6938775510204\n",
      "Standard Deviation: 15.64269406307687\n",
      "Z-Scores: \n",
      "[(6, -0.8401914075580905),\n",
      " (5, -0.9041190146549017),\n",
      " (6, -0.8401914075580905),\n",
      " (6, -0.8401914075580905),\n",
      " (35, 1.0137091982494355),\n",
      " (34, 0.9497815911526242),\n",
      " (42, 1.4612024479271142)]\n"
     ]
    }
   ],
   "source": [
    "# Ages of children and parents at child's party\n",
    "birthday_party_ages = [6, 5, 6, 6, 35, 34, 42]\n",
    "summarize(\"Birthday Party Ages\", birthday_party_ages)"
   ]
  },
  {
   "cell_type": "code",
   "execution_count": 38,
   "metadata": {},
   "outputs": [
    {
     "name": "stdout",
     "output_type": "stream",
     "text": [
      "Summarizing Geograph Grades\n",
      "Mean: 91.0\n",
      "Variance: 8.0\n",
      "Standard Deviation: 2.8284271247461903\n",
      "Z-Scores: \n",
      "[(87, -1.414213562373095),\n",
      " (89, -0.7071067811865475),\n",
      " (91, 0.0),\n",
      " (93, 0.7071067811865475),\n",
      " (95, 1.414213562373095)]\n"
     ]
    }
   ],
   "source": [
    "# Test score from a 2nd grade geography test\n",
    "geo_grades = [87, 89, 91, 93, 95]\n",
    "summarize(\"Geograph Grades\", geo_grades)"
   ]
  },
  {
   "cell_type": "code",
   "execution_count": 39,
   "metadata": {},
   "outputs": [
    {
     "name": "stdout",
     "output_type": "stream",
     "text": [
      "Summarizing Quantum Mechanics Grades\n",
      "Mean: 45.142857142857146\n",
      "Variance: 1006.1224489795917\n",
      "Standard Deviation: 31.71943330167788\n",
      "Z-Scores: \n",
      "[(63, 0.5629716863888061),\n",
      " (63, 0.5629716863888061),\n",
      " (98, 1.6663961917108663),\n",
      " (13, -1.0133490354998513),\n",
      " (58, 0.4053396141999404),\n",
      " (13, -1.0133490354998513),\n",
      " (8, -1.170981107688717)]\n"
     ]
    }
   ],
   "source": [
    "# Test scores from a graduate quantum mechanics midterm\n",
    "quantum_grades = [63, 63, 98, 13, 58, 13, 8]\n",
    "summarize(\"Quantum Mechanics Grades\", quantum_grades)"
   ]
  },
  {
   "cell_type": "code",
   "execution_count": 40,
   "metadata": {},
   "outputs": [
    {
     "name": "stdout",
     "output_type": "stream",
     "text": [
      "Summarizing Prices\n",
      "Mean: 142.0\n",
      "Variance: 92039.55555555556\n",
      "Standard Deviation: 303.3802161571442\n",
      "Z-Scores: \n",
      "[(30, -0.36917371019996403),\n",
      " (31, -0.36587751635889293),\n",
      " (31, -0.36587751635889293),\n",
      " (32, -0.3625813225178218),\n",
      " (32, -0.3625813225178218),\n",
      " (40, -0.33621177178925293),\n",
      " (41, -0.33291557794818183),\n",
      " (41, -0.33291557794818183),\n",
      " (1000, 2.82813431563901)]\n"
     ]
    }
   ],
   "source": [
    "# Prices\n",
    "prices = [30, 31, 31, 32, 32, 40, 41, 41, 1000]\n",
    "summarize(\"Prices\", prices)"
   ]
  }
 ],
 "metadata": {
  "kernelspec": {
   "display_name": "Python 3",
   "language": "python",
   "name": "python3"
  },
  "language_info": {
   "codemirror_mode": {
    "name": "ipython",
    "version": 3
   },
   "file_extension": ".py",
   "mimetype": "text/x-python",
   "name": "python",
   "nbconvert_exporter": "python",
   "pygments_lexer": "ipython3",
   "version": "3.6.5"
  }
 },
 "nbformat": 4,
 "nbformat_minor": 2
}
