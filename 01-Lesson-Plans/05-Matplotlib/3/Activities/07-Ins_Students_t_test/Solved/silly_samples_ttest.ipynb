{
 "cells": [
  {
   "cell_type": "code",
   "execution_count": 1,
   "metadata": {},
   "outputs": [],
   "source": [
    "from random import randint\n",
    "import matplotlib.pyplot as plt\n",
    "import numpy as np\n",
    "from scipy.stats import sem, ttest_ind"
   ]
  },
  {
   "cell_type": "code",
   "execution_count": 2,
   "metadata": {},
   "outputs": [],
   "source": [
    "# Generate\n",
    "high_prices = [randint(1, 5) * 1000 for x in range(1, 10)]\n",
    "high_means = np.mean(high_prices)\n",
    "high_sem = sem(high_prices)\n",
    "\n",
    "low_prices = [randint(1, 5) * 200 for x in range(1, 10)]\n",
    "low_means = np.mean(low_prices)\n",
    "low_sem = sem(low_prices)\n",
    "\n",
    "means = [high_means, low_means]\n",
    "sems = [high_sem, low_sem]\n",
    "labels = [\"High Prices\", \"Low Prices\"]"
   ]
  },
  {
   "cell_type": "code",
   "execution_count": 3,
   "metadata": {},
   "outputs": [
    {
     "data": {
      "text/plain": [
       "Text(0,0.5,'Mean House Price')"
      ]
     },
     "execution_count": 3,
     "metadata": {},
     "output_type": "execute_result"
    },
    {
     "data": {
      "image/png": "[encoded data removed]",
      "text/plain": [
       "<Figure size 432x288 with 1 Axes>"
      ]
     },
     "metadata": {},
     "output_type": "display_data"
    }
   ],
   "source": [
    "# Plot\n",
    "x_ticks = [0, 1]\n",
    "plt.errorbar(x_ticks, means, yerr=sems, fmt=\"o\")\n",
    "\n",
    "plt.xlim(-0.5, 2.5)\n",
    "plt.xticks(x_ticks, labels)\n",
    "plt.ylabel(\"Mean House Price\")"
   ]
  },
  {
   "cell_type": "code",
   "execution_count": 5,
   "metadata": {},
   "outputs": [
    {
     "name": "stdout",
     "output_type": "stream",
     "text": [
      "The differences between the high and low prices are significant.\n"
     ]
    }
   ],
   "source": [
    "# t-test\n",
    "t_stat, p = ttest_ind(high_prices, low_prices, equal_var=False)\n",
    "\n",
    "if p < 0.05:\n",
    "    print(\"The differences between the high and low prices are significant.\")\n",
    "else:\n",
    "    print(\"The differences between high and low prices are due to chance.\")"
   ]
  }
 ],
 "metadata": {
  "kernelspec": {
   "display_name": "Python 3",
   "language": "python",
   "name": "python3"
  },
  "language_info": {
   "codemirror_mode": {
    "name": "ipython",
    "version": 3
   },
   "file_extension": ".py",
   "mimetype": "text/x-python",
   "name": "python",
   "nbconvert_exporter": "python",
   "pygments_lexer": "ipython3",
   "version": "3.6.5"
  }
 },
 "nbformat": 4,
 "nbformat_minor": 2
}
