{
 "cells": [
  {
   "cell_type": "code",
   "execution_count": 32,
   "metadata": {},
   "outputs": [],
   "source": [
    "import numpy as np"
   ]
  },
  {
   "cell_type": "code",
   "execution_count": 33,
   "metadata": {},
   "outputs": [
    {
     "name": "stdout",
     "output_type": "stream",
     "text": [
      "0th percentile (lowest number)\n",
      "3.0\n",
      "\n",
      "25th percentile (lower quartile)\n",
      "4.5\n",
      "\n",
      "50th percentile (median)\n",
      "6.0\n",
      "\n",
      "75th percentile (upper quartile)\n",
      "7.5\n",
      "\n",
      "100th percentile (highest number)\n",
      "9.0\n",
      "\n"
     ]
    }
   ],
   "source": [
    "numbers = [3, 3, 4, 5, 5, 6, 7, 7, 8, 8, 9]\n",
    "\n",
    "# calculate percentiles\n",
    "q0, q25, q50, q75, q100 = np.percentile(numbers, [0, 25, 50, 75, 100])\n",
    "\n",
    "print('0th percentile (lowest number)')\n",
    "print(q0)\n",
    "print()\n",
    "\n",
    "print('25th percentile (lower quartile)')\n",
    "print(q25)\n",
    "print()\n",
    "\n",
    "print('50th percentile (median)')\n",
    "print(q50)\n",
    "print()\n",
    "\n",
    "print('75th percentile (upper quartile)')\n",
    "print(q75)\n",
    "print()\n",
    "\n",
    "print('100th percentile (highest number)')\n",
    "print(q100)\n",
    "print()"
   ]
  },
  {
   "cell_type": "code",
   "execution_count": null,
   "metadata": {},
   "outputs": [],
   "source": []
  }
 ],
 "metadata": {
  "kernelspec": {
   "display_name": "Python 3",
   "language": "python",
   "name": "python3"
  },
  "language_info": {
   "codemirror_mode": {
    "name": "ipython",
    "version": 3
   },
   "file_extension": ".py",
   "mimetype": "text/x-python",
   "name": "python",
   "nbconvert_exporter": "python",
   "pygments_lexer": "ipython3",
   "version": "3.6.5"
  }
 },
 "nbformat": 4,
 "nbformat_minor": 2
}
